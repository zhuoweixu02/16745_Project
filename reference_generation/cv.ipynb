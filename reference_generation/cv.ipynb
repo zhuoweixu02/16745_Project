{
 "cells": [
  {
   "cell_type": "code",
   "execution_count": null,
   "id": "605087d6",
   "metadata": {},
   "outputs": [
    {
     "data": {
      "image/png": "[encoded data removed]",
      "text/plain": [
       "<Figure size 640x480 with 1 Axes>"
      ]
     },
     "metadata": {},
     "output_type": "display_data"
    }
   ],
   "source": [
    "import cv2\n",
    "import numpy as np\n",
    "import matplotlib.pyplot as plt\n",
    "\n",
    "# Create a blank white image\n",
    "img = np.ones((400, 400, 3), dtype=np.uint8) * 255\n",
    "\n",
    "# Draw a curve (e.g., a sine wave)\n",
    "for x in range(0, 400):\n",
    "    y = int(200 + 100 * np.sin(x * np.pi / 100))\n",
    "    cv2.circle(img, (x, y), 1, (0, 0, 0), -1)\n",
    "\n",
    "# Convert to grayscale and threshold\n",
    "gray = cv2.cvtColor(img, cv2.COLOR_BGR2GRAY)\n",
    "_, thresh = cv2.threshold(gray, 127, 255, cv2.THRESH_BINARY_INV)\n",
    "\n",
    "# Save images for reference\n",
    "\n",
    "folder_path = \"test\"\n",
    "cv2.imwrite(f\"{folder_path}/sine_curve.png\", img)\n",
    "cv2.imwrite(f\"{folder_path}/sine_curve_thresh.png\", thresh)\n",
    "\n",
    "# Display the generated image\n",
    "plt.imshow(cv2.cvtColor(img, cv2.COLOR_BGR2RGB))\n",
    "plt.title(\"Generated Curve Image\")\n",
    "plt.axis(\"off\")\n",
    "plt.show()\n"
   ]
  },
  {
   "cell_type": "code",
   "execution_count": 8,
   "id": "3c8193be",
   "metadata": {},
   "outputs": [
    {
     "name": "stdout",
     "output_type": "stream",
     "text": [
      "Extracted path: [[197, 135], [196, 136], [195, 136], [194, 136], [193, 136], [192, 136], [191, 137], [190, 137], [189, 137], [188, 137], [187, 138], [186, 138], [185, 138], [184, 139], [183, 139], [182, 139], [181, 140], [180, 140], [179, 141], [178, 141], [177, 142], [176, 142], [175, 143], [174, 144], [173, 144], [172, 145], [171, 146], [170, 146], [169, 147], [168, 148], [167, 149], [166, 150], [165, 151], [164, 152], [163, 153], [162, 154], [161, 155], [160, 156], [160, 157], [159, 158], [158, 159], [158, 160], [157, 161], [156, 162], [156, 163], [155, 164], [155, 165], [154, 166], [154, 167], [153, 168], [153, 169], [153, 170], [152, 171], [152, 172], [152, 173], [151, 174], [151, 175], [151, 176], [151, 177], [150, 178], [150, 179], [150, 180], [150, 181], [150, 182], [149, 183], [149, 184], [149, 185], [149, 186], [149, 187], [149, 188], [149, 189], [149, 190], [149, 191], [149, 192], [149, 193], [149, 194], [149, 195], [149, 196], [149, 197], [149, 198], [149, 199], [149, 200], [149, 201], [149, 202], [149, 203], [149, 204], [149, 205], [149, 206], [149, 207], [149, 208], [149, 209], [149, 210], [149, 211], [149, 212], [149, 213], [149, 214], [149, 215], [149, 216], [149, 217], [149, 218], [149, 219], [149, 220], [149, 221], [149, 222], [149, 223], [149, 224], [149, 225], [149, 226], [149, 227], [149, 228], [149, 229], [149, 230], [149, 231], [149, 232], [149, 233], [149, 234], [149, 235], [149, 236], [149, 237], [149, 238], [149, 239], [149, 240], [149, 241], [149, 242], [149, 243], [149, 244], [149, 245], [149, 246], [149, 247], [149, 248], [149, 249], [149, 250], [149, 251], [149, 252], [149, 253], [149, 254], [149, 255], [149, 256], [149, 257], [149, 258], [149, 259], [149, 260], [149, 261], [149, 262], [149, 263], [149, 264], [149, 265], [149, 266], [149, 267], [149, 268], [149, 269], [149, 270], [149, 271], [149, 272], [149, 273], [149, 274], [149, 275], [149, 276], [149, 277], [149, 278], [149, 279], [149, 280], [149, 281], [149, 282], [149, 283], [149, 284], [149, 285], [149, 286], [149, 287], [149, 288], [149, 289], [149, 290], [149, 291], [149, 292], [149, 293], [149, 294], [149, 295], [149, 296], [149, 297], [149, 298], [149, 299], [149, 300], [149, 301], [149, 302], [149, 303], [149, 304], [149, 305], [149, 306], [149, 307], [149, 308], [149, 309], [149, 310], [149, 311], [149, 312], [149, 313], [149, 314], [149, 315], [149, 316], [149, 317], [149, 318], [149, 319], [149, 320], [149, 321], [149, 322], [149, 323], [149, 324], [149, 325], [149, 326], [149, 327], [149, 328], [149, 329], [149, 330], [149, 331], [149, 332], [149, 333], [149, 334], [149, 335], [149, 336], [149, 337], [149, 338], [149, 339], [149, 340], [149, 341], [149, 342], [149, 343], [149, 344], [149, 345], [149, 346], [149, 347], [149, 348], [149, 349], [149, 350], [149, 351], [149, 352], [149, 353], [149, 354], [149, 355], [149, 356], [149, 357], [149, 358], [149, 359], [149, 360], [149, 361], [149, 362], [149, 363], [149, 364], [149, 365], [149, 366], [149, 367], [149, 368], [149, 369], [149, 370], [149, 371], [149, 372], [149, 373], [149, 374], [149, 375], [149, 376], [149, 377], [149, 378], [149, 379], [149, 380], [149, 381], [149, 382], [149, 383], [149, 384], [149, 385], [149, 386], [149, 387], [149, 388], [149, 389], [149, 390], [149, 391], [149, 392], [149, 393], [149, 394], [149, 395], [149, 396], [149, 397], [149, 398], [149, 399], [149, 400], [149, 401], [149, 402], [149, 403], [150, 404], [150, 405], [150, 406], [150, 407], [150, 408], [151, 409], [151, 410], [151, 411], [151, 412], [152, 413], [152, 414], [152, 415], [153, 416], [153, 417], [153, 418], [154, 419], [154, 420], [155, 421], [155, 422], [156, 423], [156, 424], [157, 425], [158, 426], [158, 427], [159, 428], [160, 429], [160, 430], [161, 431], [162, 432], [163, 433], [164, 434], [165, 435], [166, 436], [167, 437], [168, 438], [169, 439], [170, 440], [171, 440], [172, 441], [173, 442], [174, 442], [175, 443], [176, 444], [177, 444], [178, 445], [179, 445], [180, 446], [181, 446], [182, 447], [183, 447], [184, 447], [185, 448], [186, 448], [187, 448], [188, 449], [189, 449], [190, 449], [191, 449], [192, 450], [193, 450], [194, 450], [195, 450], [196, 450], [197, 451], [198, 451], [199, 451], [200, 451], [201, 451], [202, 451], [203, 451], [204, 451], [205, 451], [206, 451], [207, 451], [208, 451], [209, 451], [210, 451], [211, 451], [212, 451], [213, 451], [214, 451], [215, 451], [216, 451], [217, 451], [218, 451], [219, 451], [220, 451], [221, 451], [222, 451], [223, 451], [224, 451], [225, 451], [226, 451], [227, 451], [228, 451], [229, 451], [230, 451], [231, 451], [232, 451], [233, 451], [234, 451], [235, 451], [236, 451], [237, 451], [238, 451], [239, 451], [240, 451], [241, 451], [242, 451], [243, 451], [244, 451], [245, 451], [246, 451], [247, 451], [248, 451], [249, 451], [250, 451], [251, 451], [252, 451], [253, 451], [254, 451], [255, 451], [256, 451], [257, 451], [258, 451], [259, 451], [260, 451], [261, 451], [262, 451], [263, 451], [264, 451], [265, 451], [266, 451], [267, 451], [268, 451], [269, 451], [270, 451], [271, 451], [272, 451], [273, 451], [274, 451], [275, 451], [276, 451], [277, 451], [278, 451], [279, 451], [280, 451], [281, 451], [282, 451], [283, 451], [284, 451], [285, 451], [286, 451], [287, 451], [288, 451], [289, 451], [290, 451], [291, 451], [292, 451], [293, 451], [294, 451], [295, 451], [296, 451], [297, 451], [298, 451], [299, 451], [300, 451], [301, 451], [302, 451], [303, 451], [304, 451], [305, 451], [306, 451], [307, 451], [308, 451], [309, 451], [310, 451], [311, 451], [312, 451], [313, 451], [314, 451], [315, 451], [316, 451], [317, 451], [318, 451], [319, 451], [320, 451], [321, 451], [322, 451], [323, 451], [324, 451], [325, 451], [326, 451], [327, 451], [328, 451], [329, 451], [330, 451], [331, 451], [332, 451], [333, 451], [334, 451], [335, 451], [336, 451], [337, 451], [338, 451], [339, 451], [340, 451], [341, 451], [342, 451], [343, 451], [344, 451], [345, 451], [346, 451], [347, 451], [348, 451], [349, 451], [350, 451], [351, 451], [352, 451], [353, 451], [354, 451], [355, 451], [356, 451], [357, 451], [358, 451], [359, 451], [360, 451], [361, 451], [362, 451], [363, 451], [364, 451], [365, 451], [366, 451], [367, 451], [368, 451], [369, 451], [370, 451], [371, 451], [372, 451], [373, 451], [374, 451], [375, 451], [376, 451], [377, 451], [378, 451], [379, 451], [380, 451], [381, 451], [382, 451], [383, 451], [384, 451], [385, 451], [386, 451], [387, 451], [388, 451], [389, 451], [390, 451], [391, 451], [392, 451], [393, 451], [394, 451], [395, 451], [396, 451], [397, 451], [398, 451], [399, 451], [400, 451], [401, 451], [402, 451], [403, 451], [404, 451], [405, 451], [406, 451], [407, 451], [408, 451], [409, 451], [410, 451], [411, 451], [412, 451], [413, 451], [414, 451], [415, 451], [416, 451], [417, 451], [418, 451], [419, 451], [420, 451], [421, 451], [422, 451], [423, 451], [424, 451], [425, 451], [426, 451], [427, 451], [428, 451], [429, 451], [430, 451], [431, 451], [432, 451], [433, 451], [434, 451], [435, 451], [436, 451], [437, 451], [438, 451], [439, 451], [440, 451], [441, 451], [442, 451], [443, 451], [444, 451], [445, 451], [446, 451], [447, 451], [448, 451], [449, 451], [450, 451], [451, 451], [452, 451], [453, 451], [454, 451], [455, 451], [456, 451], [457, 451], [458, 451], [459, 451], [460, 451], [461, 451], [462, 451], [463, 451], [464, 451], [465, 451], [466, 451], [467, 451], [468, 451], [469, 451], [470, 451], [471, 451], [472, 451], [473, 451], [474, 451], [475, 451], [476, 451], [477, 451], [478, 451], [479, 451], [480, 451], [481, 451], [482, 451], [483, 451], [484, 451], [485, 451], [486, 451], [487, 451], [488, 451], [489, 451], [490, 451], [491, 451], [492, 451], [493, 451], [494, 451], [495, 451], [496, 451], [497, 451], [498, 451], [499, 451], [500, 451], [501, 451], [502, 451], [503, 451], [504, 451], [505, 451], [506, 451], [507, 451], [508, 451], [509, 451], [510, 451], [511, 451], [512, 451], [513, 451], [514, 451], [515, 451], [516, 451], [517, 451], [518, 451], [519, 451], [520, 451], [521, 451], [522, 451], [523, 451], [524, 451], [525, 451], [526, 451], [527, 451], [528, 451], [529, 451], [530, 451], [531, 451], [532, 451], [533, 451], [534, 451], [535, 451], [536, 451], [537, 451], [538, 451], [539, 451], [540, 451], [541, 451], [542, 451], [543, 451], [544, 451], [545, 451], [546, 451], [547, 451], [548, 451], [549, 451], [550, 451], [551, 451], [552, 451], [553, 451], [554, 451], [555, 451], [556, 451], [557, 451], [558, 451], [559, 451], [560, 451], [561, 451], [562, 451], [563, 451], [564, 451], [565, 451], [566, 451], [567, 451], [568, 451], [569, 451], [570, 451], [571, 451], [572, 451], [573, 451], [574, 451], [575, 451], [576, 451], [577, 451], [578, 451], [579, 451], [580, 451], [581, 451], [582, 451], [583, 451], [584, 451], [585, 451], [586, 451], [587, 451], [588, 451], [589, 451], [590, 451], [591, 451], [592, 451], [593, 451], [594, 451], [595, 451], [596, 451], [597, 451], [598, 451], [599, 451], [600, 451], [601, 451], [602, 451], [603, 451], [604, 451], [605, 451], [606, 451], [607, 451], [608, 451], [609, 451], [610, 451], [611, 451], [612, 451], [613, 451], [614, 451], [615, 451], [616, 451], [617, 451], [618, 450], [619, 450], [620, 450], [621, 450], [622, 450], [623, 449], [624, 449], [625, 449], [626, 449], [627, 448], [628, 448], [629, 448], [630, 447], [631, 447], [632, 447], [633, 446], [634, 446], [635, 445], [636, 445], [637, 444], [638, 444], [639, 443], [640, 442], [641, 442], [642, 441], [643, 440], [644, 440], [645, 439], [646, 438], [647, 437], [648, 436], [649, 435], [650, 434], [651, 433], [652, 432], [653, 431], [654, 430], [654, 429], [655, 428], [656, 427], [656, 426], [657, 425], [658, 424], [658, 423], [659, 422], [659, 421], [660, 420], [660, 419], [661, 418], [661, 417], [661, 416], [662, 415], [662, 414], [662, 413], [663, 412], [663, 411], [663, 410], [663, 409], [664, 408], [664, 407], [664, 406], [664, 405], [664, 404], [665, 403], [665, 402], [665, 401], [665, 400], [665, 399], [665, 398], [665, 397], [665, 396], [665, 395], [665, 394], [665, 393], [665, 392], [665, 391], [665, 390], [665, 389], [665, 388], [665, 387], [665, 386], [665, 385], [665, 384], [665, 383], [665, 382], [665, 381], [665, 380], [665, 379], [665, 378], [665, 377], [665, 376], [665, 375], [665, 374], [665, 373], [665, 372], [665, 371], [665, 370], [665, 369], [665, 368], [665, 367], [665, 366], [665, 365], [665, 364], [665, 363], [665, 362], [665, 361], [665, 360], [665, 359], [665, 358], [665, 357], [665, 356], [665, 355], [665, 354], [665, 353], [665, 352], [665, 351], [665, 350], [665, 349], [665, 348], [665, 347], [665, 346], [665, 345], [665, 344], [665, 343], [665, 342], [665, 341], [665, 340], [665, 339], [665, 338], [665, 337], [665, 336], [665, 335], [665, 334], [665, 333], [665, 332], [665, 331], [665, 330], [665, 329], [665, 328], [665, 327], [665, 326], [665, 325], [665, 324], [665, 323], [665, 322], [665, 321], [665, 320], [665, 319], [665, 318], [665, 317], [665, 316], [665, 315], [665, 314], [665, 313], [665, 312], [665, 311], [665, 310], [665, 309], [665, 308], [665, 307], [665, 306], [665, 305], [665, 304], [665, 303], [665, 302], [665, 301], [665, 300], [665, 299], [665, 298], [665, 297], [665, 296], [665, 295], [665, 294], [665, 293], [665, 292], [665, 291], [665, 290], [665, 289], [665, 288], [665, 287], [665, 286], [665, 285], [665, 284], [665, 283], [665, 282], [665, 281], [665, 280], [665, 279], [665, 278], [665, 277], [665, 276], [665, 275], [665, 274], [665, 273], [665, 272], [665, 271], [665, 270], [665, 269], [665, 268], [665, 267], [665, 266], [665, 265], [665, 264], [665, 263], [665, 262], [665, 261], [665, 260], [665, 259], [665, 258], [665, 257], [665, 256], [665, 255], [665, 254], [665, 253], [665, 252], [665, 251], [665, 250], [665, 249], [665, 248], [665, 247], [665, 246], [665, 245], [665, 244], [665, 243], [665, 242], [665, 241], [665, 240], [665, 239], [665, 238], [665, 237], [665, 236], [665, 235], [665, 234], [665, 233], [665, 232], [665, 231], [665, 230], [665, 229], [665, 228], [665, 227], [665, 226], [665, 225], [665, 224], [665, 223], [665, 222], [665, 221], [665, 220], [665, 219], [665, 218], [665, 217], [665, 216], [665, 215], [665, 214], [665, 213], [665, 212], [665, 211], [665, 210], [665, 209], [665, 208], [665, 207], [665, 206], [665, 205], [665, 204], [665, 203], [665, 202], [665, 201], [665, 200], [665, 199], [665, 198], [665, 197], [665, 196], [665, 195], [665, 194], [665, 193], [665, 192], [665, 191], [665, 190], [665, 189], [665, 188], [665, 187], [665, 186], [665, 185], [665, 184], [665, 183], [664, 182], [664, 181], [664, 180], [664, 179], [664, 178], [663, 177], [663, 176], [663, 175], [663, 174], [662, 173], [662, 172], [662, 171], [661, 170], [661, 169], [661, 168], [660, 167], [660, 166], [659, 165], [659, 164], [658, 163], [658, 162], [657, 161], [656, 160], [656, 159], [655, 158], [654, 157], [654, 156], [653, 155], [652, 154], [651, 153], [650, 152], [649, 151], [648, 150], [647, 149], [646, 148], [645, 147], [644, 146], [643, 146], [642, 145], [641, 144], [640, 144], [639, 143], [638, 142], [637, 142], [636, 141], [635, 141], [634, 140], [633, 140], [632, 139], [631, 139], [630, 139], [629, 138], [628, 138], [627, 138], [626, 137], [625, 137], [624, 137], [623, 137], [622, 136], [621, 136], [620, 136], [619, 136], [618, 136], [617, 135], [616, 135], [615, 135], [614, 135], [613, 135], [612, 135], [611, 135], [610, 135], [609, 135], [608, 135], [607, 135], [606, 135], [605, 135], [604, 135], [603, 135], [602, 135], [601, 135], [600, 135], [599, 135], [598, 135], [597, 135], [596, 135], [595, 135], [594, 135], [593, 135], [592, 135], [591, 135], [590, 135], [589, 135], [588, 135], [587, 135], [586, 135], [585, 135], [584, 135], [583, 135], [582, 135], [581, 135], [580, 135], [579, 135], [578, 135], [577, 135], [576, 135], [575, 135], [574, 135], [573, 135], [572, 135], [571, 135], [570, 135], [569, 135], [568, 135], [567, 135], [566, 135], [565, 135], [564, 135], [563, 135], [562, 135], [561, 135], [560, 135], [559, 135], [558, 135], [557, 135], [556, 135], [555, 135], [554, 135], [553, 135], [552, 135], [551, 135], [550, 135], [549, 135], [548, 135], [547, 135], [546, 135], [545, 135], [544, 135], [543, 135], [542, 135], [541, 135], [540, 135], [539, 135], [538, 135], [537, 135], [536, 135], [535, 135], [534, 135], [533, 135], [532, 135], [531, 135], [530, 135], [529, 135], [528, 135], [527, 135], [526, 135], [525, 135], [524, 135], [523, 135], [522, 135], [521, 135], [520, 135], [519, 135], [518, 135], [517, 135], [516, 135], [515, 135], [514, 135], [513, 135], [512, 135], [511, 135], [510, 135], [509, 135], [508, 135], [507, 135], [506, 135], [505, 135], [504, 135], [503, 135], [502, 135], [501, 135], [500, 135], [499, 135], [498, 135], [497, 135], [496, 135], [495, 135], [494, 135], [493, 135], [492, 135], [491, 135], [490, 135], [489, 135], [488, 135], [487, 135], [486, 135], [485, 135], [484, 135], [483, 135], [482, 135], [481, 135], [480, 135], [479, 135], [478, 135], [477, 135], [476, 135], [475, 135], [474, 135], [473, 135], [472, 135], [471, 135], [470, 135], [469, 135], [468, 135], [467, 135], [466, 135], [465, 135], [464, 135], [463, 135], [462, 135], [461, 135], [460, 135], [459, 135], [458, 135], [457, 135], [456, 135], [455, 135], [454, 135], [453, 135], [452, 135], [451, 135], [450, 135], [449, 135], [448, 135], [447, 135], [446, 135], [445, 135], [444, 135], [443, 135], [442, 135], [441, 135], [440, 135], [439, 135], [438, 135], [437, 135], [436, 135], [435, 135], [434, 135], [433, 135], [432, 135], [431, 135], [430, 135], [429, 135], [428, 135], [427, 135], [426, 135], [425, 135], [424, 135], [423, 135], [422, 135], [421, 135], [420, 135], [419, 135], [418, 135], [417, 135], [416, 135], [415, 135], [414, 135], [413, 135], [412, 135], [411, 135], [410, 135], [409, 135], [408, 135], [407, 135], [406, 135], [405, 135], [404, 135], [403, 135], [402, 135], [401, 135], [400, 135], [399, 135], [398, 135], [397, 135], [396, 135], [395, 135], [394, 135], [393, 135], [392, 135], [391, 135], [390, 135], [389, 135], [388, 135], [387, 135], [386, 135], [385, 135], [384, 135], [383, 135], [382, 135], [381, 135], [380, 135], [379, 135], [378, 135], [377, 135], [376, 135], [375, 135], [374, 135], [373, 135], [372, 135], [371, 135], [370, 135], [369, 135], [368, 135], [367, 135], [366, 135], [365, 135], [364, 135], [363, 135], [362, 135], [361, 135], [360, 135], [359, 135], [358, 135], [357, 135], [356, 135], [355, 135], [354, 135], [353, 135], [352, 135], [351, 135], [350, 135], [349, 135], [348, 135], [347, 135], [346, 135], [345, 135], [344, 135], [343, 135], [342, 135], [341, 135], [340, 135], [339, 135], [338, 135], [337, 135], [336, 135], [335, 135], [334, 135], [333, 135], [332, 135], [331, 135], [330, 135], [329, 135], [328, 135], [327, 135], [326, 135], [325, 135], [324, 135], [323, 135], [322, 135], [321, 135], [320, 135], [319, 135], [318, 135], [317, 135], [316, 135], [315, 135], [314, 135], [313, 135], [312, 135], [311, 135], [310, 135], [309, 135], [308, 135], [307, 135], [306, 135], [305, 135], [304, 135], [303, 135], [302, 135], [301, 135], [300, 135], [299, 135], [298, 135], [297, 135], [296, 135], [295, 135], [294, 135], [293, 135], [292, 135], [291, 135], [290, 135], [289, 135], [288, 135], [287, 135], [286, 135], [285, 135], [284, 135], [283, 135], [282, 135], [281, 135], [280, 135], [279, 135], [278, 135], [277, 135], [276, 135], [275, 135], [274, 135], [273, 135], [272, 135], [271, 135], [270, 135], [269, 135], [268, 135], [267, 135], [266, 135], [265, 135], [264, 135], [263, 135], [262, 135], [261, 135], [260, 135], [259, 135], [258, 135], [257, 135], [256, 135], [255, 135], [254, 135], [253, 135], [252, 135], [251, 135], [250, 135], [249, 135], [248, 135], [247, 135], [246, 135], [245, 135], [244, 135], [243, 135], [242, 135], [241, 135], [240, 135], [239, 135], [238, 135], [237, 135], [236, 135], [235, 135], [234, 135], [233, 135], [232, 135], [231, 135], [230, 135], [229, 135], [228, 135], [227, 135], [226, 135], [225, 135], [224, 135], [223, 135], [222, 135], [221, 135], [220, 135], [219, 135], [218, 135], [217, 135], [216, 135], [215, 135], [214, 135], [213, 135], [212, 135], [211, 135], [210, 135], [209, 135], [208, 135], [207, 135], [206, 135], [205, 135], [204, 135], [203, 135], [202, 135], [201, 135], [200, 135], [199, 135], [198, 135]]\n"
     ]
    }
   ],
   "source": [
    "import cv2\n",
    "import numpy as np\n",
    "\n",
    "def extract_path_from_image(image_path, show=False):\n",
    "    # Load image\n",
    "    img = cv2.imread(image_path)\n",
    "    gray = cv2.cvtColor(img, cv2.COLOR_BGR2GRAY)\n",
    "\n",
    "    # Threshold to binary\n",
    "    _, thresh = cv2.threshold(gray, 127, 255, cv2.THRESH_BINARY_INV)\n",
    "\n",
    "    # Find contours\n",
    "    contours, _ = cv2.findContours(thresh, cv2.RETR_EXTERNAL, cv2.CHAIN_APPROX_NONE)\n",
    "\n",
    "    if not contours:\n",
    "        raise ValueError(\"No contour found\")\n",
    "\n",
    "    # Choose the longest contour (assuming it's the drawn path)\n",
    "    contour = max(contours, key=lambda c: len(c))\n",
    "\n",
    "    # Simplify contour to (x, y) points\n",
    "    path = contour[:, 0, :]  # shape (N, 2)\n",
    "\n",
    "    if show:\n",
    "        display = img.copy()\n",
    "        for (x, y) in path:\n",
    "            cv2.circle(display, (x, y), 1, (0, 0, 255), -1)\n",
    "        cv2.imshow(\"Path\", display)\n",
    "        cv2.waitKey(0)\n",
    "        cv2.destroyAllWindows()\n",
    "\n",
    "    return path.tolist()\n",
    "\n",
    "# Example usage:\n",
    "if __name__ == \"__main__\":\n",
    "    path = extract_path_from_image(\"test/test1.png\", show=True)\n",
    "    print(\"Extracted path:\", path)\n"
   ]
  },
  {
   "cell_type": "code",
   "execution_count": 9,
   "id": "1a8f034f",
   "metadata": {},
   "outputs": [],
   "source": [
    "import matplotlib.animation as FuncAnimation\n",
    "\n",
    "def generate_motion(path, v0=50, t0=2, dt=0.05):\n",
    "    path = path.astype(np.float32)\n",
    "    distances = np.sqrt(np.sum(np.diff(path, axis=0)**2, axis=1))\n",
    "    total_length = np.sum(distances)\n",
    "    \n",
    "    # Time to travel the whole path after acceleration\n",
    "    accel_distance = 0.5 * v0 * t0\n",
    "    remaining_distance = total_length - accel_distance\n",
    "    remaining_time = remaining_distance / v0\n",
    "    total_time = t0 + remaining_time\n",
    "    steps = int(total_time / dt)\n",
    "\n",
    "    # Cumulative distance lookup\n",
    "    cumulative_dist = np.insert(np.cumsum(distances), 0, 0)\n",
    "\n",
    "    # Generate distance over time profile\n",
    "    times = np.linspace(0, total_time, steps)\n",
    "    distance_profile = np.piecewise(\n",
    "        times,\n",
    "        [times < t0, times >= t0],\n",
    "        [lambda t: 0.5 * (v0 / t0) * t**2,\n",
    "         lambda t: accel_distance + v0 * (t - t0)]\n",
    "    )\n",
    "\n",
    "    # Map distances to path points\n",
    "    positions = []\n",
    "    for d in distance_profile:\n",
    "        idx = np.searchsorted(cumulative_dist, d)\n",
    "        if idx >= len(path) - 1:\n",
    "            idx = len(path) - 2\n",
    "        ratio = (d - cumulative_dist[idx]) / distances[idx]\n",
    "        point = (1 - ratio) * path[idx] + ratio * path[idx + 1]\n",
    "        positions.append(point)\n",
    "\n",
    "    return np.array(positions)\n",
    "\n",
    "# Animation function\n",
    "def animate_path(path, vehicle_positions):\n",
    "    fig, ax = plt.subplots()\n",
    "    ax.plot(path[:, 0], path[:, 1], 'k-', linewidth=1)\n",
    "    vehicle_dot, = ax.plot([], [], 'ro', markersize=5)\n",
    "    ax.set_xlim(path[:, 0].min() - 10, path[:, 0].max() + 10)\n",
    "    ax.set_ylim(path[:, 1].min() - 10, path[:, 1].max() + 10)\n",
    "    ax.set_aspect('equal')\n",
    "    ax.set_title(\"Vehicle Path Animation\")\n",
    "\n",
    "    def update(frame):\n",
    "        vehicle_dot.set_data(vehicle_positions[frame, 0], vehicle_positions[frame, 1])\n",
    "        return vehicle_dot,\n",
    "\n",
    "    ani = FuncAnimation(fig, update, frames=len(vehicle_positions), interval=50, blit=True)\n",
    "    plt.close(fig)\n",
    "    return ani"
   ]
  },
  {
   "cell_type": "code",
   "execution_count": 10,
   "id": "39eae82e",
   "metadata": {},
   "outputs": [
    {
     "ename": "AttributeError",
     "evalue": "'list' object has no attribute 'astype'",
     "output_type": "error",
     "traceback": [
      "\u001b[1;31m---------------------------------------------------------------------------\u001b[0m",
      "\u001b[1;31mAttributeError\u001b[0m                            Traceback (most recent call last)",
      "Cell \u001b[1;32mIn[10], line 1\u001b[0m\n\u001b[1;32m----> 1\u001b[0m vehicle_positions \u001b[38;5;241m=\u001b[39m \u001b[43mgenerate_motion\u001b[49m\u001b[43m(\u001b[49m\u001b[43mpath\u001b[49m\u001b[43m,\u001b[49m\u001b[43m \u001b[49m\u001b[43mv0\u001b[49m\u001b[38;5;241;43m=\u001b[39;49m\u001b[38;5;241;43m50\u001b[39;49m\u001b[43m,\u001b[49m\u001b[43m \u001b[49m\u001b[43mt0\u001b[49m\u001b[38;5;241;43m=\u001b[39;49m\u001b[38;5;241;43m2\u001b[39;49m\u001b[43m,\u001b[49m\u001b[43m \u001b[49m\u001b[43mdt\u001b[49m\u001b[38;5;241;43m=\u001b[39;49m\u001b[38;5;241;43m0.05\u001b[39;49m\u001b[43m)\u001b[49m\n\u001b[0;32m      2\u001b[0m animation \u001b[38;5;241m=\u001b[39m animate_path(path, vehicle_positions)\n\u001b[0;32m      3\u001b[0m animation\n",
      "Cell \u001b[1;32mIn[9], line 4\u001b[0m, in \u001b[0;36mgenerate_motion\u001b[1;34m(path, v0, t0, dt)\u001b[0m\n\u001b[0;32m      3\u001b[0m \u001b[38;5;28;01mdef\u001b[39;00m\u001b[38;5;250m \u001b[39m\u001b[38;5;21mgenerate_motion\u001b[39m(path, v0\u001b[38;5;241m=\u001b[39m\u001b[38;5;241m50\u001b[39m, t0\u001b[38;5;241m=\u001b[39m\u001b[38;5;241m2\u001b[39m, dt\u001b[38;5;241m=\u001b[39m\u001b[38;5;241m0.05\u001b[39m):\n\u001b[1;32m----> 4\u001b[0m     path \u001b[38;5;241m=\u001b[39m \u001b[43mpath\u001b[49m\u001b[38;5;241;43m.\u001b[39;49m\u001b[43mastype\u001b[49m(np\u001b[38;5;241m.\u001b[39mfloat32)\n\u001b[0;32m      5\u001b[0m     distances \u001b[38;5;241m=\u001b[39m np\u001b[38;5;241m.\u001b[39msqrt(np\u001b[38;5;241m.\u001b[39msum(np\u001b[38;5;241m.\u001b[39mdiff(path, axis\u001b[38;5;241m=\u001b[39m\u001b[38;5;241m0\u001b[39m)\u001b[38;5;241m*\u001b[39m\u001b[38;5;241m*\u001b[39m\u001b[38;5;241m2\u001b[39m, axis\u001b[38;5;241m=\u001b[39m\u001b[38;5;241m1\u001b[39m))\n\u001b[0;32m      6\u001b[0m     total_length \u001b[38;5;241m=\u001b[39m np\u001b[38;5;241m.\u001b[39msum(distances)\n",
      "\u001b[1;31mAttributeError\u001b[0m: 'list' object has no attribute 'astype'"
     ]
    }
   ],
   "source": [
    "vehicle_positions = generate_motion(path, v0=50, t0=2, dt=0.05)\n",
    "animation = animate_path(path, vehicle_positions)\n",
    "animation"
   ]
  }
 ],
 "metadata": {
  "kernelspec": {
   "display_name": "Python 3",
   "language": "python",
   "name": "python3"
  },
  "language_info": {
   "codemirror_mode": {
    "name": "ipython",
    "version": 3
   },
   "file_extension": ".py",
   "mimetype": "text/x-python",
   "name": "python",
   "nbconvert_exporter": "python",
   "pygments_lexer": "ipython3",
   "version": "3.12.6"
  }
 },
 "nbformat": 4,
 "nbformat_minor": 5
}
