{
 "cells": [
  {
   "cell_type": "code",
   "execution_count": 12,
   "id": "6cf83d57",
   "metadata": {},
   "outputs": [],
   "source": [
    "import cv2\n",
    "import numpy as np\n",
    "import matplotlib.pyplot as plt\n",
    "from matplotlib.animation import FuncAnimation\n",
    "\n",
    "def extract_path_from_image(image_path, show=False):\n",
    "    img = cv2.imread(image_path)\n",
    "    gray = cv2.cvtColor(img, cv2.COLOR_BGR2GRAY)\n",
    "    _, thresh = cv2.threshold(gray, 127, 255, cv2.THRESH_BINARY_INV)\n",
    "    contours, _ = cv2.findContours(thresh, cv2.RETR_EXTERNAL, cv2.CHAIN_APPROX_NONE)\n",
    "    if not contours:\n",
    "        raise ValueError(\"No contour found\")\n",
    "    contour = max(contours, key=lambda c: len(c))\n",
    "    path = contour[:, 0, :]  # shape (N, 2)\n",
    "    if show:\n",
    "        display = img.copy()\n",
    "        for (x, y) in path:\n",
    "            cv2.circle(display, (x, y), 1, (0, 0, 255), -1)\n",
    "        cv2.imshow(\"Path\", display)\n",
    "        cv2.waitKey(0)\n",
    "        cv2.destroyAllWindows()\n",
    "    return np.array(path)\n",
    "\n",
    "def generate_motion(path, v0=50, t0=2, dt=0.05):\n",
    "    # Calculate distances between consecutive points\n",
    "    distances = np.sqrt(np.sum(np.diff(path, axis=0)**2, axis=1))\n",
    "    total_length = np.sum(distances)\n",
    "    accel_distance = 0.5 * v0 * t0\n",
    "    remaining_distance = total_length - accel_distance\n",
    "    remaining_time = remaining_distance / v0\n",
    "    total_time = t0 + remaining_time\n",
    "    steps = int(total_time / dt)\n",
    "\n",
    "    # Calculate cumulative distances and time array\n",
    "    cumulative_dist = np.insert(np.cumsum(distances), 0, 0)\n",
    "    times = np.linspace(0, total_time, steps)\n",
    "\n",
    "    # Calculate velocity profile\n",
    "    velocity_profile = np.piecewise(\n",
    "        times,\n",
    "        [times < t0, times >= t0],\n",
    "        [lambda t: (v0 / t0) * t,\n",
    "         lambda t: v0]\n",
    "    )\n",
    "\n",
    "    # Calculate distance profile\n",
    "    distance_profile = np.piecewise(\n",
    "        times,\n",
    "        [times < t0, times >= t0],\n",
    "        [lambda t: 0.5 * (v0 / t0) * t**2,\n",
    "         lambda t: accel_distance + v0 * (t - t0)]\n",
    "    )\n",
    "\n",
    "    # Calculate positions\n",
    "    positions = []\n",
    "    for d in distance_profile:\n",
    "        idx = np.searchsorted(cumulative_dist, d)\n",
    "        if idx >= len(path) - 1:\n",
    "            idx = len(path) - 2\n",
    "        ratio = (d - cumulative_dist[idx]) / distances[idx]\n",
    "        point = (1 - ratio) * path[idx] + ratio * path[idx + 1]\n",
    "        positions.append(point)\n",
    "    \n",
    "    return np.array(positions), velocity_profile\n",
    "\n",
    "def animate_path(path, vehicle_positions):\n",
    "    fig, ax = plt.subplots()\n",
    "    ax.plot(path[:, 0], path[:, 1], 'k-', linewidth=1)\n",
    "    vehicle_dot, = ax.plot([], [], 'ro', markersize=5)\n",
    "    ax.set_xlim(path[:, 0].min() - 10, path[:, 0].max() + 10)\n",
    "    ax.set_ylim(path[:, 1].min() - 10, path[:, 1].max() + 10)\n",
    "    ax.set_aspect('equal')\n",
    "    ax.set_title(\"Vehicle Path Animation\")\n",
    "\n",
    "    def init():\n",
    "        vehicle_dot.set_data([], [])\n",
    "        return vehicle_dot,\n",
    "\n",
    "    def update(frame):\n",
    "        x = vehicle_positions[frame][0]\n",
    "        y = vehicle_positions[frame][1]\n",
    "        vehicle_dot.set_data([x], [y])\n",
    "        return vehicle_dot,\n",
    "\n",
    "    ani = FuncAnimation(fig, update, init_func=init, \n",
    "                       frames=len(vehicle_positions), \n",
    "                       interval=50, blit=True)\n",
    "    plt.show()\n",
    "\n",
    "# Main\n",
    "\n",
    "path = extract_path_from_image(\"test/test1.png\", show=True)\n",
    "    \n"
   ]
  },
  {
   "cell_type": "code",
   "execution_count": 13,
   "id": "1d0098b4",
   "metadata": {},
   "outputs": [
    {
     "name": "stdout",
     "output_type": "stream",
     "text": [
      "Vehicle positions: [[197.         135.        ]\n",
      " [197.38284804 136.        ]\n",
      " [197.28875146 136.        ]\n",
      " ...\n",
      " [203.00923344 135.        ]\n",
      " [200.50461672 135.        ]\n",
      " [198.         135.        ]]\n"
     ]
    },
    {
     "data": {
      "image/png": "[encoded data removed]",
      "text/plain": [
       "<Figure size 640x480 with 1 Axes>"
      ]
     },
     "metadata": {},
     "output_type": "display_data"
    }
   ],
   "source": [
    "vehicle_positions, velocity_profile = generate_motion(path, v0=50, t0=2, dt=0.05)\n",
    "print(\"Vehicle positions:\", vehicle_positions)\n",
    "animate_path(path, vehicle_positions)\n"
   ]
  }
 ],
 "metadata": {
  "kernelspec": {
   "display_name": "Python 3",
   "language": "python",
   "name": "python3"
  },
  "language_info": {
   "codemirror_mode": {
    "name": "ipython",
    "version": 3
   },
   "file_extension": ".py",
   "mimetype": "text/x-python",
   "name": "python",
   "nbconvert_exporter": "python",
   "pygments_lexer": "ipython3",
   "version": "3.12.6"
  }
 },
 "nbformat": 4,
 "nbformat_minor": 5
}
